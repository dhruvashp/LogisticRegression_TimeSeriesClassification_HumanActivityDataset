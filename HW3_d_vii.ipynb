{
 "cells": [
  {
   "cell_type": "markdown",
   "metadata": {},
   "source": [
    "HW3\n",
    "d\n",
    "vii\n",
    "\n",
    "As can be seen from the obtained training confusion matrix :\n",
    "\n",
    "All the 1's were classified correctly and the test error was obtained 0 %\n",
    "\n",
    "The class imbalance for this dataset is about 15 % on the training side\n",
    "\n",
    "As such, class imbalance didn't really appear in my results as can be seen previously\n",
    "\n",
    "If it did appear, then case control sampling would be performed as thus,\n",
    "\n",
    "A few samples containing class 0 would have been dropped. This thus would have balanced the classes to a certain degree, increasing the ratio of class 1 to (class 1 + class 0)\n",
    "\n",
    "Then the model would've been trained on the training set. \n",
    "\n",
    "NOTE : The test set would NOT be touched or wouldn't be sampled according to case control as we need predictions on the test set to actually reflect where our model would've lacked since it was trained on a modified version of the training set.\n",
    "\n",
    "Finally, we'd modify the model's beta0 values according to the equation as taught in class (this intercept modification is the only parameter modification we need to perform, all other parameters are accurately estimated assuming model convergence)\n",
    "\n",
    "This modified beta0 model can then be tested on the test set (again, test set is NOT case control sampled) and finally errors reported. Confusion, ROC, AUC can all be calculated for both train and test.\n",
    "\n",
    "In conclusion :\n",
    "\n",
    "Since our model, in training and test, wasn't affected by class imbalance (zero errors), we haven't performed these tasks as class imbalance didn't affect our model performance.\n",
    "\n",
    "Additionally while 15% ratio is bad, it is not too bad either and the class imbalance isn't considered drastic here.\n",
    "\n",
    "Thus if class imbalance did show:\n",
    "We'd resample the training data by dropping zero classes to balance the ratio\n",
    "Fit on this resampled training data\n",
    "Modify beta0 of the model so obtained\n",
    "Test on the unmodified test dataset\n",
    "Obtain various results for train and test (Confusion, ROC, AUC)\n",
    "\n",
    "Again we didn't see class imbalance, so all these steps were skipped, however they're relatively straight-forward to perform even if class imbalance did appear."
   ]
  }
 ],
 "metadata": {
  "kernelspec": {
   "display_name": "Python 3",
   "language": "python",
   "name": "python3"
  },
  "language_info": {
   "codemirror_mode": {
    "name": "ipython",
    "version": 3
   },
   "file_extension": ".py",
   "mimetype": "text/x-python",
   "name": "python",
   "nbconvert_exporter": "python",
   "pygments_lexer": "ipython3",
   "version": "3.7.6"
  }
 },
 "nbformat": 4,
 "nbformat_minor": 4
}
