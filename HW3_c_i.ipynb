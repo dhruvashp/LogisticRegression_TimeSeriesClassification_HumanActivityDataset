{
 "cells": [
  {
   "cell_type": "markdown",
   "metadata": {},
   "source": [
    "\"\"\"\n",
    "Created on Thu Oct  1 08:25:21 2020\n",
    "\n",
    "@author: DHRUV\n",
    "\"\"\"\n",
    "\n",
    "\n",
    "\"\"\"\n",
    "HW3 (c) (i)\n",
    "\n",
    "The time series, time domain features are as follows -\n",
    "Mean, Median, Minimum, Maximum, Standard Deviation, First Quartile, Second Quartile (Median), Third Quartile,\n",
    "Variance, Auto-Correlation, Cross-Correlation. The latter two form a main section of time-domain analysis\n",
    "of time series datasets.\n",
    "\n",
    "Frequency based methods include spectral analysis and wavelet analysis. These require us to work with the\n",
    "datasets in the frequency domain treating them as discrete signals (as time series datasets have features, which\n",
    "are sampled at (generally) uniform time intervals)\n",
    "\n",
    "Time domain analysis can also be divided into parametric and non-paramteric methods. \n",
    "\n",
    "When the data measured has a tendency of repeating over a specific time interval, using \n",
    "frequency domain methods becomes more natural and intuitive.\n",
    "\n",
    "Zero Crossing Rate, Correlation co-efficient, etc. are a few more time-domain time series \n",
    "parameters.\n",
    "\n",
    "These were the dominant time domain time series features I found using various resources.\n",
    "\n",
    "\"\"\""
   ]
  },
  {
   "cell_type": "code",
   "execution_count": null,
   "metadata": {},
   "outputs": [],
   "source": []
  }
 ],
 "metadata": {
  "kernelspec": {
   "display_name": "Python 3",
   "language": "python",
   "name": "python3"
  },
  "language_info": {
   "codemirror_mode": {
    "name": "ipython",
    "version": 3
   },
   "file_extension": ".py",
   "mimetype": "text/x-python",
   "name": "python",
   "nbconvert_exporter": "python",
   "pygments_lexer": "ipython3",
   "version": "3.7.6"
  }
 },
 "nbformat": 4,
 "nbformat_minor": 4
}
