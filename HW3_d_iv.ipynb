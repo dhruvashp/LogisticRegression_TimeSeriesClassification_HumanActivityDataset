{
 "cells": [
  {
   "cell_type": "markdown",
   "metadata": {},
   "source": [
    "HW3_d_iv\n",
    "\n",
    "A few Assumptions :\n",
    "\n",
    "In the previous portion, we've already select the best time series split and obtained via recursive feature elimination the best set of features corresponding to the split (see the various attached files)\n",
    "\n",
    "For the subsequent portions we'll do the following : \n",
    "\n",
    "We'll use the original dataset without splitting it. And we'll keep all of the features for each time series (the three that we've worked with)\n",
    "\n",
    "NOTE : The best split and the corresponding best features and the corresponding CV test error estimated have already been obtained in the previous portions, in detail, in the various .csv extracted and the Read Me files that explain what the .csv mean. We've, via RFE obtained all the relevant features for all splits along with their p-values, for all 20 splits.\n",
    "\n",
    "RFE used was thus : Check if all p-values are under 0.05. If they aren't then remove the feature with the largest p-value. Continue till all p-values under 0.05. Again this could be done so easily as this is a binary logistic regression problem, for multi-class problem we'd have a beta matrix. Here we've also checked for p-values of the constant term that appears.\n",
    "\n",
    "\n",
    "Thus, in conclusion :\n",
    "\n",
    "We'll use the original dataset, without any splits, taking all the features into consideration. We could, actually, remove all those features that are obtained to be redundant, as obtained in the .csv file, however we won't do that here for simplicity.\n",
    "\n",
    "So we'll work with the whole, unsplitted dataset. Refer to the .csv and the read me files for an elaboration into which features in which splits are relevant and with what p-values\n",
    "\n",
    "Additional reason for doing so is also that every run, with CV folds selected at random, will give slightly different l and p\n",
    "In my case, over different runs l and p optimal varied as thus :\n",
    "\n",
    "l from 1 to 3\n",
    "p from 2 to 4 for each l optimal\n",
    "corresponding error 0.05-0.07\n",
    "\n",
    "Thus we'll select all features for time series with no splits (no splits is a more or less optimal selection for l as seen above) for some result solidarity"
   ]
  },
  {
   "cell_type": "code",
   "execution_count": 4,
   "metadata": {},
   "outputs": [
    {
     "name": "stdout",
     "output_type": "stream",
     "text": [
      "       avg_rss12_mean  avg_rss12_std  avg_rss12_min  avg_rss12_q1  \\\n",
      "b1_1        40.624792       1.476967          37.25         39.25   \n",
      "b1_2        42.812812       1.435550          38.00         42.00   \n",
      "b1_3        43.954500       1.558835          35.00         43.00   \n",
      "b1_4        42.179813       3.670666          33.00         39.15   \n",
      "b1_5        41.678063       2.243490          33.00         41.33   \n",
      "...               ...            ...            ...           ...   \n",
      "wa_11       33.586875       4.650935          19.50         30.25   \n",
      "wa_12       34.322750       4.752477          19.75         31.00   \n",
      "wa_13       34.546229       4.842294          19.50         31.25   \n",
      "wa_14       34.873229       4.531720          23.50         31.75   \n",
      "wa_15       34.473188       4.796705          19.25         31.25   \n",
      "\n",
      "       avg_rss12_median  avg_rss12_q3  avg_rss12_max  var_rss12_mean  \\\n",
      "b1_1              40.50       42.0000          45.00        0.358604   \n",
      "b1_2              42.50       43.6700          45.67        0.372438   \n",
      "b1_3              44.33       45.0000          47.40        0.426250   \n",
      "b1_4              43.50       45.0000          47.75        0.696042   \n",
      "b1_5              41.75       42.7500          45.75        0.535979   \n",
      "...                 ...           ...            ...             ...   \n",
      "wa_11             34.25       37.0000          45.33        4.576562   \n",
      "wa_12             35.25       38.0000          45.50        4.456333   \n",
      "wa_13             35.25       37.8125          46.00        4.371958   \n",
      "wa_14             35.25       38.2500          46.25        4.380583   \n",
      "wa_15             35.00       38.0000          44.00        4.359312   \n",
      "\n",
      "       var_rss12_std  var_rss12_min  ...  avg_rss23_median  avg_rss23_q3  \\\n",
      "b1_1        0.322605            0.0  ...             35.00         36.00   \n",
      "b1_2        0.289158            0.0  ...             33.00         34.50   \n",
      "b1_3        0.338690            0.0  ...             36.00         36.50   \n",
      "b1_4        0.630860            0.0  ...             35.00         36.33   \n",
      "b1_5        0.405469            0.0  ...             30.00         31.25   \n",
      "...              ...            ...  ...               ...           ...   \n",
      "wa_11       2.461077            0.0  ...             16.00         18.25   \n",
      "wa_12       2.599284            0.0  ...             15.75         17.75   \n",
      "wa_13       2.360448            0.0  ...             15.75         17.75   \n",
      "wa_14       2.435437            0.0  ...             16.00         18.00   \n",
      "wa_15       2.388746            0.0  ...             16.00         17.75   \n",
      "\n",
      "       avg_rss23_max  var_rss23_mean  var_rss23_std  var_rss23_min  \\\n",
      "b1_1           38.25        0.570583       0.582915           0.00   \n",
      "b1_2           38.50        0.571083       0.601010           0.00   \n",
      "b1_3           38.50        0.493292       0.513506           0.00   \n",
      "b1_4           38.67        0.613521       0.524317           0.00   \n",
      "b1_5           37.50        0.383292       0.389164           0.00   \n",
      "...              ...             ...            ...            ...   \n",
      "wa_11          25.00        3.259729       1.640243           0.00   \n",
      "wa_12          23.25        3.432562       1.732727           0.00   \n",
      "wa_13          22.75        3.338125       1.656742           0.00   \n",
      "wa_14          23.50        3.424646       1.690960           0.00   \n",
      "wa_15          23.25        3.340458       1.699114           0.43   \n",
      "\n",
      "       var_rss23_q1  var_rss23_median  var_rss23_q3  var_rss23_max  \n",
      "b1_1         0.0000              0.43        1.3000           1.92  \n",
      "b1_2         0.0000              0.43        1.3000           3.11  \n",
      "b1_3         0.0000              0.43        0.9400           1.79  \n",
      "b1_4         0.0000              0.50        1.0000           2.18  \n",
      "b1_5         0.0000              0.43        0.5000           1.79  \n",
      "...             ...               ...           ...            ...  \n",
      "wa_11        2.0500              3.11        4.3225           8.32  \n",
      "wa_12        2.1575              3.20        4.5650           9.67  \n",
      "wa_13        2.1600              3.08        4.3350          10.00  \n",
      "wa_14        2.1700              3.27        4.5000           9.51  \n",
      "wa_15        2.1200              3.09        4.3750           9.00  \n",
      "\n",
      "[88 rows x 42 columns]\n"
     ]
    }
   ],
   "source": [
    "import pandas as pd\n",
    "import numpy as np\n",
    "import statsmodels.api as sm\n",
    "\n",
    "df = pd.read_csv('Extracted_Whole_Feature.csv',index_col=0)\n",
    "print(df)"
   ]
  },
  {
   "cell_type": "markdown",
   "metadata": {},
   "source": [
    "Here, we'll do the following :\n",
    "\n",
    "Split this into train and test (as given in the question)\n",
    "Obtain columns of features corresponding to mean, std and max (as my choice throughout this HW)\n",
    "\n",
    "This will be done in Excel itself (small dataset) and will be stored as train_3d_iv and test_3d_iv for further use"
   ]
  },
  {
   "cell_type": "code",
   "execution_count": 5,
   "metadata": {},
   "outputs": [
    {
     "name": "stdout",
     "output_type": "stream",
     "text": [
      "       avg_rss12_mean  avg_rss12_std  avg_rss12_max  var_rss12_mean  \\\n",
      "b1_3        43.954500       1.558835          47.40        0.426250   \n",
      "b1_4        42.179812       3.670666          47.75        0.696042   \n",
      "b1_5        41.678063       2.243490          45.75        0.535979   \n",
      "b1_6        43.454958       1.386098          48.00        0.378083   \n",
      "b1_7        43.969125       1.618364          48.00        0.413125   \n",
      "...               ...            ...            ...             ...   \n",
      "wa_11       33.586875       4.650935          45.33        4.576562   \n",
      "wa_12       34.322750       4.752477          45.50        4.456333   \n",
      "wa_13       34.546229       4.842294          46.00        4.371958   \n",
      "wa_14       34.873229       4.531720          46.25        4.380583   \n",
      "wa_15       34.473188       4.796705          44.00        4.359312   \n",
      "\n",
      "       var_rss12_std  var_rss12_max  avg_rss13_mean  avg_rss13_std  \\\n",
      "b1_3        0.338690           1.70       22.122354       3.030943   \n",
      "b1_4        0.630860           3.00       22.183625       3.810469   \n",
      "b1_5        0.405469           2.83       19.006563       4.087107   \n",
      "b1_6        0.315566           1.58       15.793333       3.847638   \n",
      "b1_7        0.263111           1.50       15.868021       3.742420   \n",
      "...              ...            ...             ...            ...   \n",
      "wa_11       2.461077          14.67       15.317854       2.970440   \n",
      "wa_12       2.599284          13.47       15.209771       2.711022   \n",
      "wa_13       2.360448          12.47       15.185729       2.757604   \n",
      "wa_14       2.435437          14.82       15.471187       2.813077   \n",
      "wa_15       2.388746          13.86       15.424708       2.802066   \n",
      "\n",
      "       avg_rss13_max  var_rss13_mean  var_rss13_std  var_rss13_max  \\\n",
      "b1_3           29.75        0.497312       0.550657           4.44   \n",
      "b1_4           30.00        0.989917       0.953730           5.15   \n",
      "b1_5           28.25        0.841875       0.928801           6.42   \n",
      "b1_6           27.00        0.849354       0.995761          10.03   \n",
      "b1_7           26.33        0.666354       0.788985           5.17   \n",
      "...              ...             ...            ...            ...   \n",
      "wa_11          23.25        3.227229       1.647474           9.00   \n",
      "wa_12          22.25        3.277229       1.500046           9.00   \n",
      "wa_13          22.67        3.028688       1.665184           8.34   \n",
      "wa_14          24.25        3.205687       1.519348           9.90   \n",
      "wa_15          22.75        3.188271       1.602504           9.10   \n",
      "\n",
      "       avg_rss23_mean  avg_rss23_std  avg_rss23_max  var_rss23_mean  \\\n",
      "b1_3        35.588458       1.999604          38.50        0.493292   \n",
      "b1_4        33.493917       3.849448          38.67        0.613521   \n",
      "b1_5        29.857083       2.411026          37.50        0.383292   \n",
      "b1_6        23.034792       2.488862          33.50        0.679646   \n",
      "b1_7        22.103750       3.318301          30.75        0.555312   \n",
      "...               ...            ...            ...             ...   \n",
      "wa_11       15.892146       3.283983          25.00        3.259729   \n",
      "wa_12       15.550458       3.119856          23.25        3.432562   \n",
      "wa_13       15.759542       2.823124          22.75        3.338125   \n",
      "wa_14       15.873896       3.131076          23.50        3.424646   \n",
      "wa_15       15.704167       3.156320          23.25        3.340458   \n",
      "\n",
      "       var_rss23_std  var_rss23_max  Class  \n",
      "b1_3        0.513506           1.79      1  \n",
      "b1_4        0.524317           2.18      1  \n",
      "b1_5        0.389164           1.79      1  \n",
      "b1_6        0.622534           5.26      1  \n",
      "b1_7        0.487826           2.96      1  \n",
      "...              ...            ...    ...  \n",
      "wa_11       1.640243           8.32      0  \n",
      "wa_12       1.732727           9.67      0  \n",
      "wa_13       1.656742          10.00      0  \n",
      "wa_14       1.690960           9.51      0  \n",
      "wa_15       1.699114           9.00      0  \n",
      "\n",
      "[69 rows x 19 columns]\n",
      "         avg_rss12_mean  avg_rss12_std  avg_rss12_max  var_rss12_mean  \\\n",
      "b1_1          40.624792       1.476967          45.00        0.358604   \n",
      "b1_2          42.812812       1.435550          45.67        0.372437   \n",
      "b2_1          24.562958       3.737514          51.00        0.590833   \n",
      "b2_2          27.464604       3.583582          42.75        0.449708   \n",
      "cy_1          37.177042       3.581301          45.00        2.374208   \n",
      "cy_2          37.561188       3.226507          44.75        2.080687   \n",
      "cy_3          37.058708       3.710180          44.67        2.438146   \n",
      "ly_1          27.716375       1.442253          30.00        0.363687   \n",
      "ly_2          44.182938       7.495615          48.33        0.101875   \n",
      "ly_3          48.004167       0.032038          48.25        0.007167   \n",
      "sit_1         42.363563       2.068247          48.00        0.492563   \n",
      "sit_2         45.917667       1.089027          50.75        0.324542   \n",
      "sit_3         45.239667       0.429915          46.75        0.172958   \n",
      "stand_1       44.334729       2.476940          48.00        0.432958   \n",
      "stand_2       43.174937       1.989052          46.25        0.506583   \n",
      "stand_3       42.760562       3.398919          47.00        0.486167   \n",
      "wa_1          34.227771       4.889576          43.50        3.995729   \n",
      "wa_2          33.509729       4.850923          45.00        4.450771   \n",
      "wa_3          34.660583       5.315110          46.75        4.200896   \n",
      "\n",
      "         var_rss12_std  var_rss12_max  avg_rss13_mean  avg_rss13_std  \\\n",
      "b1_1          0.322605           1.30       19.040937       4.462952   \n",
      "b1_2          0.289158           1.22       20.096979       3.893737   \n",
      "b2_1          0.837408           6.87       19.121333       4.299612   \n",
      "b2_2          0.767197           7.76       20.842542       3.826268   \n",
      "cy_1          1.601799           8.58       16.531083       3.430906   \n",
      "cy_2          1.639258           9.91       16.567042       3.691401   \n",
      "cy_3          1.996887          14.17       16.388313       3.537950   \n",
      "ly_1          0.394817           1.79        6.078563       3.468994   \n",
      "ly_2          0.346756           3.11        6.679958       1.936492   \n",
      "ly_3          0.055106           0.43        4.900563       2.566429   \n",
      "sit_1         0.403581           4.44       17.119292       3.141010   \n",
      "sit_2         0.365820           4.87       16.871542       5.359859   \n",
      "sit_3         0.251176           1.00       12.813313       4.191913   \n",
      "stand_1       0.370591           3.90       11.646146       3.698519   \n",
      "stand_2       0.307413           2.12       12.771333       3.289489   \n",
      "stand_3       0.446511           3.34       15.036833       3.121792   \n",
      "wa_1          2.271102          14.50       15.713083       2.839695   \n",
      "wa_2          2.338685          13.05       15.557771       2.912404   \n",
      "wa_3          2.480206          13.44       15.223187       3.101017   \n",
      "\n",
      "         avg_rss13_max  var_rss13_mean  var_rss13_std  var_rss13_max  \\\n",
      "b1_1             29.50        0.832542       0.965659           7.23   \n",
      "b1_2             29.50        0.876437       1.047259           5.76   \n",
      "b2_1             25.33        0.736771       0.927048           6.76   \n",
      "b2_2             35.00        0.779917       0.904436           5.76   \n",
      "cy_1             26.75        2.910604       1.600137           8.05   \n",
      "cy_2             24.67        3.033875       1.625415           8.32   \n",
      "cy_3             24.00        2.980688       1.612059           9.74   \n",
      "ly_1             13.25        0.871021       0.777400           5.02   \n",
      "ly_2             16.50        0.584104       0.749945           5.91   \n",
      "ly_3             13.00        0.397313       0.447127           2.86   \n",
      "sit_1            22.50        0.641854       0.760958           5.36   \n",
      "sit_2            24.00        0.696375       0.857231           8.50   \n",
      "sit_3            23.75        1.108688       1.015271           6.36   \n",
      "stand_1          18.75        0.843063       0.888806           5.79   \n",
      "stand_2          20.67        0.686688       0.765337           6.56   \n",
      "stand_3          21.00        0.588875       0.700999           5.85   \n",
      "wa_1             23.50        3.303812       1.667285           8.86   \n",
      "wa_2             23.75        3.350854       1.664378           9.10   \n",
      "wa_3             25.25        3.111312       1.688745           8.58   \n",
      "\n",
      "         avg_rss23_mean  avg_rss23_std  avg_rss23_max  var_rss23_mean  \\\n",
      "b1_1          34.311292       2.188449          38.25        0.570583   \n",
      "b1_2          33.024583       1.995255          38.50        0.571083   \n",
      "b2_1          23.493042       3.693786          30.00        0.700187   \n",
      "b2_2          17.617938       5.053642          33.00        1.122125   \n",
      "cy_1          19.607250       2.890347          25.50        2.921729   \n",
      "cy_2          19.518896       2.727377          24.33        2.765896   \n",
      "cy_3          18.125958       3.537144          24.25        2.983750   \n",
      "ly_1           8.337438       4.074511          21.00        0.734271   \n",
      "ly_2           4.376292       3.274539          12.75        0.692771   \n",
      "ly_3           7.624896       3.268502          12.00        0.641229   \n",
      "sit_1         13.381771       4.956821          28.00        1.034021   \n",
      "sit_2         18.442792       3.585511          24.00        0.904604   \n",
      "sit_3         19.330667       2.945840          26.75        0.837250   \n",
      "stand_1       13.443708       5.401794          23.00        0.933000   \n",
      "stand_2       14.285500       2.983976          21.25        0.911979   \n",
      "stand_3       15.550812       4.296574          21.33        0.842271   \n",
      "wa_1          16.621167       3.092094          26.00        3.394125   \n",
      "wa_2          16.541375       3.133564          25.00        3.378479   \n",
      "wa_3          16.251042       3.155015          24.50        3.244396   \n",
      "\n",
      "         var_rss23_std  var_rss23_max  Class  \n",
      "b1_1          0.582915           1.92      1  \n",
      "b1_2          0.601010           3.11      1  \n",
      "b2_1          0.693720           4.97      1  \n",
      "b2_2          1.012342           6.76      1  \n",
      "cy_1          1.852600           9.34      0  \n",
      "cy_2          1.769203           9.62      0  \n",
      "cy_3          1.815730           8.55      0  \n",
      "ly_1          0.613688           4.50      0  \n",
      "ly_2          0.675781           3.91      0  \n",
      "ly_3          0.388372           2.50      0  \n",
      "sit_1         0.985627           6.02      0  \n",
      "sit_2         0.896171           7.22      0  \n",
      "sit_3         0.835344           8.20      0  \n",
      "stand_1       0.673609           5.02      0  \n",
      "stand_2       0.666161           5.72      0  \n",
      "stand_3       0.722165           5.73      0  \n",
      "wa_1          1.792090           9.74      0  \n",
      "wa_2          1.787360           8.96      0  \n",
      "wa_3          1.630983           8.99      0  \n"
     ]
    }
   ],
   "source": [
    "train = pd.read_csv('train_3d_iv.csv',index_col=0)\n",
    "test = pd.read_csv('test_3d_iv.csv',index_col=0)\n",
    "print(train)\n",
    "print(test)"
   ]
  },
  {
   "cell_type": "code",
   "execution_count": 6,
   "metadata": {},
   "outputs": [
    {
     "name": "stdout",
     "output_type": "stream",
     "text": [
      "       avg_rss12_mean  avg_rss12_std  avg_rss12_max  var_rss12_mean  \\\n",
      "b1_3        43.954500       1.558835          47.40        0.426250   \n",
      "b1_4        42.179812       3.670666          47.75        0.696042   \n",
      "b1_5        41.678063       2.243490          45.75        0.535979   \n",
      "b1_6        43.454958       1.386098          48.00        0.378083   \n",
      "b1_7        43.969125       1.618364          48.00        0.413125   \n",
      "...               ...            ...            ...             ...   \n",
      "wa_11       33.586875       4.650935          45.33        4.576562   \n",
      "wa_12       34.322750       4.752477          45.50        4.456333   \n",
      "wa_13       34.546229       4.842294          46.00        4.371958   \n",
      "wa_14       34.873229       4.531720          46.25        4.380583   \n",
      "wa_15       34.473188       4.796705          44.00        4.359312   \n",
      "\n",
      "       var_rss12_std  var_rss12_max  avg_rss13_mean  avg_rss13_std  \\\n",
      "b1_3        0.338690           1.70       22.122354       3.030943   \n",
      "b1_4        0.630860           3.00       22.183625       3.810469   \n",
      "b1_5        0.405469           2.83       19.006563       4.087107   \n",
      "b1_6        0.315566           1.58       15.793333       3.847638   \n",
      "b1_7        0.263111           1.50       15.868021       3.742420   \n",
      "...              ...            ...             ...            ...   \n",
      "wa_11       2.461077          14.67       15.317854       2.970440   \n",
      "wa_12       2.599284          13.47       15.209771       2.711022   \n",
      "wa_13       2.360448          12.47       15.185729       2.757604   \n",
      "wa_14       2.435437          14.82       15.471187       2.813077   \n",
      "wa_15       2.388746          13.86       15.424708       2.802066   \n",
      "\n",
      "       avg_rss13_max  var_rss13_mean  var_rss13_std  var_rss13_max  \\\n",
      "b1_3           29.75        0.497312       0.550657           4.44   \n",
      "b1_4           30.00        0.989917       0.953730           5.15   \n",
      "b1_5           28.25        0.841875       0.928801           6.42   \n",
      "b1_6           27.00        0.849354       0.995761          10.03   \n",
      "b1_7           26.33        0.666354       0.788985           5.17   \n",
      "...              ...             ...            ...            ...   \n",
      "wa_11          23.25        3.227229       1.647474           9.00   \n",
      "wa_12          22.25        3.277229       1.500046           9.00   \n",
      "wa_13          22.67        3.028688       1.665184           8.34   \n",
      "wa_14          24.25        3.205687       1.519348           9.90   \n",
      "wa_15          22.75        3.188271       1.602504           9.10   \n",
      "\n",
      "       avg_rss23_mean  avg_rss23_std  avg_rss23_max  var_rss23_mean  \\\n",
      "b1_3        35.588458       1.999604          38.50        0.493292   \n",
      "b1_4        33.493917       3.849448          38.67        0.613521   \n",
      "b1_5        29.857083       2.411026          37.50        0.383292   \n",
      "b1_6        23.034792       2.488862          33.50        0.679646   \n",
      "b1_7        22.103750       3.318301          30.75        0.555312   \n",
      "...               ...            ...            ...             ...   \n",
      "wa_11       15.892146       3.283983          25.00        3.259729   \n",
      "wa_12       15.550458       3.119856          23.25        3.432562   \n",
      "wa_13       15.759542       2.823124          22.75        3.338125   \n",
      "wa_14       15.873896       3.131076          23.50        3.424646   \n",
      "wa_15       15.704167       3.156320          23.25        3.340458   \n",
      "\n",
      "       var_rss23_std  var_rss23_max  \n",
      "b1_3        0.513506           1.79  \n",
      "b1_4        0.524317           2.18  \n",
      "b1_5        0.389164           1.79  \n",
      "b1_6        0.622534           5.26  \n",
      "b1_7        0.487826           2.96  \n",
      "...              ...            ...  \n",
      "wa_11       1.640243           8.32  \n",
      "wa_12       1.732727           9.67  \n",
      "wa_13       1.656742          10.00  \n",
      "wa_14       1.690960           9.51  \n",
      "wa_15       1.699114           9.00  \n",
      "\n",
      "[69 rows x 18 columns]\n",
      "         avg_rss12_mean  avg_rss12_std  avg_rss12_max  var_rss12_mean  \\\n",
      "b1_1          40.624792       1.476967          45.00        0.358604   \n",
      "b1_2          42.812812       1.435550          45.67        0.372437   \n",
      "b2_1          24.562958       3.737514          51.00        0.590833   \n",
      "b2_2          27.464604       3.583582          42.75        0.449708   \n",
      "cy_1          37.177042       3.581301          45.00        2.374208   \n",
      "cy_2          37.561188       3.226507          44.75        2.080687   \n",
      "cy_3          37.058708       3.710180          44.67        2.438146   \n",
      "ly_1          27.716375       1.442253          30.00        0.363687   \n",
      "ly_2          44.182938       7.495615          48.33        0.101875   \n",
      "ly_3          48.004167       0.032038          48.25        0.007167   \n",
      "sit_1         42.363563       2.068247          48.00        0.492563   \n",
      "sit_2         45.917667       1.089027          50.75        0.324542   \n",
      "sit_3         45.239667       0.429915          46.75        0.172958   \n",
      "stand_1       44.334729       2.476940          48.00        0.432958   \n",
      "stand_2       43.174937       1.989052          46.25        0.506583   \n",
      "stand_3       42.760562       3.398919          47.00        0.486167   \n",
      "wa_1          34.227771       4.889576          43.50        3.995729   \n",
      "wa_2          33.509729       4.850923          45.00        4.450771   \n",
      "wa_3          34.660583       5.315110          46.75        4.200896   \n",
      "\n",
      "         var_rss12_std  var_rss12_max  avg_rss13_mean  avg_rss13_std  \\\n",
      "b1_1          0.322605           1.30       19.040937       4.462952   \n",
      "b1_2          0.289158           1.22       20.096979       3.893737   \n",
      "b2_1          0.837408           6.87       19.121333       4.299612   \n",
      "b2_2          0.767197           7.76       20.842542       3.826268   \n",
      "cy_1          1.601799           8.58       16.531083       3.430906   \n",
      "cy_2          1.639258           9.91       16.567042       3.691401   \n",
      "cy_3          1.996887          14.17       16.388313       3.537950   \n",
      "ly_1          0.394817           1.79        6.078563       3.468994   \n",
      "ly_2          0.346756           3.11        6.679958       1.936492   \n",
      "ly_3          0.055106           0.43        4.900563       2.566429   \n",
      "sit_1         0.403581           4.44       17.119292       3.141010   \n",
      "sit_2         0.365820           4.87       16.871542       5.359859   \n",
      "sit_3         0.251176           1.00       12.813313       4.191913   \n",
      "stand_1       0.370591           3.90       11.646146       3.698519   \n",
      "stand_2       0.307413           2.12       12.771333       3.289489   \n",
      "stand_3       0.446511           3.34       15.036833       3.121792   \n",
      "wa_1          2.271102          14.50       15.713083       2.839695   \n",
      "wa_2          2.338685          13.05       15.557771       2.912404   \n",
      "wa_3          2.480206          13.44       15.223187       3.101017   \n",
      "\n",
      "         avg_rss13_max  var_rss13_mean  var_rss13_std  var_rss13_max  \\\n",
      "b1_1             29.50        0.832542       0.965659           7.23   \n",
      "b1_2             29.50        0.876437       1.047259           5.76   \n",
      "b2_1             25.33        0.736771       0.927048           6.76   \n",
      "b2_2             35.00        0.779917       0.904436           5.76   \n",
      "cy_1             26.75        2.910604       1.600137           8.05   \n",
      "cy_2             24.67        3.033875       1.625415           8.32   \n",
      "cy_3             24.00        2.980688       1.612059           9.74   \n",
      "ly_1             13.25        0.871021       0.777400           5.02   \n",
      "ly_2             16.50        0.584104       0.749945           5.91   \n",
      "ly_3             13.00        0.397313       0.447127           2.86   \n",
      "sit_1            22.50        0.641854       0.760958           5.36   \n",
      "sit_2            24.00        0.696375       0.857231           8.50   \n",
      "sit_3            23.75        1.108688       1.015271           6.36   \n",
      "stand_1          18.75        0.843063       0.888806           5.79   \n",
      "stand_2          20.67        0.686688       0.765337           6.56   \n",
      "stand_3          21.00        0.588875       0.700999           5.85   \n",
      "wa_1             23.50        3.303812       1.667285           8.86   \n",
      "wa_2             23.75        3.350854       1.664378           9.10   \n",
      "wa_3             25.25        3.111312       1.688745           8.58   \n",
      "\n",
      "         avg_rss23_mean  avg_rss23_std  avg_rss23_max  var_rss23_mean  \\\n",
      "b1_1          34.311292       2.188449          38.25        0.570583   \n",
      "b1_2          33.024583       1.995255          38.50        0.571083   \n",
      "b2_1          23.493042       3.693786          30.00        0.700187   \n",
      "b2_2          17.617938       5.053642          33.00        1.122125   \n",
      "cy_1          19.607250       2.890347          25.50        2.921729   \n",
      "cy_2          19.518896       2.727377          24.33        2.765896   \n",
      "cy_3          18.125958       3.537144          24.25        2.983750   \n",
      "ly_1           8.337438       4.074511          21.00        0.734271   \n",
      "ly_2           4.376292       3.274539          12.75        0.692771   \n",
      "ly_3           7.624896       3.268502          12.00        0.641229   \n",
      "sit_1         13.381771       4.956821          28.00        1.034021   \n",
      "sit_2         18.442792       3.585511          24.00        0.904604   \n",
      "sit_3         19.330667       2.945840          26.75        0.837250   \n",
      "stand_1       13.443708       5.401794          23.00        0.933000   \n",
      "stand_2       14.285500       2.983976          21.25        0.911979   \n",
      "stand_3       15.550812       4.296574          21.33        0.842271   \n",
      "wa_1          16.621167       3.092094          26.00        3.394125   \n",
      "wa_2          16.541375       3.133564          25.00        3.378479   \n",
      "wa_3          16.251042       3.155015          24.50        3.244396   \n",
      "\n",
      "         var_rss23_std  var_rss23_max  \n",
      "b1_1          0.582915           1.92  \n",
      "b1_2          0.601010           3.11  \n",
      "b2_1          0.693720           4.97  \n",
      "b2_2          1.012342           6.76  \n",
      "cy_1          1.852600           9.34  \n",
      "cy_2          1.769203           9.62  \n",
      "cy_3          1.815730           8.55  \n",
      "ly_1          0.613688           4.50  \n",
      "ly_2          0.675781           3.91  \n",
      "ly_3          0.388372           2.50  \n",
      "sit_1         0.985627           6.02  \n",
      "sit_2         0.896171           7.22  \n",
      "sit_3         0.835344           8.20  \n",
      "stand_1       0.673609           5.02  \n",
      "stand_2       0.666161           5.72  \n",
      "stand_3       0.722165           5.73  \n",
      "wa_1          1.792090           9.74  \n",
      "wa_2          1.787360           8.96  \n",
      "wa_3          1.630983           8.99  \n",
      "b1_3     1\n",
      "b1_4     1\n",
      "b1_5     1\n",
      "b1_6     1\n",
      "b1_7     1\n",
      "        ..\n",
      "wa_11    0\n",
      "wa_12    0\n",
      "wa_13    0\n",
      "wa_14    0\n",
      "wa_15    0\n",
      "Name: Class, Length: 69, dtype: int64\n",
      "b1_1       1\n",
      "b1_2       1\n",
      "b2_1       1\n",
      "b2_2       1\n",
      "cy_1       0\n",
      "cy_2       0\n",
      "cy_3       0\n",
      "ly_1       0\n",
      "ly_2       0\n",
      "ly_3       0\n",
      "sit_1      0\n",
      "sit_2      0\n",
      "sit_3      0\n",
      "stand_1    0\n",
      "stand_2    0\n",
      "stand_3    0\n",
      "wa_1       0\n",
      "wa_2       0\n",
      "wa_3       0\n",
      "Name: Class, dtype: int64\n"
     ]
    }
   ],
   "source": [
    "X_train = train.drop(columns=['Class'])\n",
    "X_test = test.drop(columns=['Class'])\n",
    "y_train = train['Class']\n",
    "y_test = test['Class']\n",
    "print(X_train)\n",
    "print(X_test)\n",
    "print(y_train)\n",
    "print(y_test)"
   ]
  },
  {
   "cell_type": "code",
   "execution_count": 14,
   "metadata": {},
   "outputs": [
    {
     "name": "stdout",
     "output_type": "stream",
     "text": [
      "Warning: Maximum number of iterations has been exceeded.\n",
      "         Current function value: 0.000000\n",
      "         Iterations: 15\n",
      "b1_3     1.000000e+00\n",
      "b1_4     1.000000e+00\n",
      "b1_5     1.000000e+00\n",
      "b1_6     1.000000e+00\n",
      "b1_7     9.999939e-01\n",
      "             ...     \n",
      "wa_11    7.582560e-10\n",
      "wa_12    8.533048e-17\n",
      "wa_13    3.059022e-07\n",
      "wa_14    6.914400e-13\n",
      "wa_15    3.775135e-11\n",
      "Length: 69, dtype: float64\n"
     ]
    },
    {
     "name": "stderr",
     "output_type": "stream",
     "text": [
      "C:\\Users\\DHRUV\\anaconda3\\lib\\site-packages\\statsmodels\\base\\model.py:568: ConvergenceWarning: Maximum Likelihood optimization failed to converge. Check mle_retvals\n",
      "  \"Check mle_retvals\", ConvergenceWarning)\n"
     ]
    }
   ],
   "source": [
    "X_train_stats = sm.add_constant(X_train)\n",
    "X_test_stats = sm.add_constant(X_test)\n",
    "\n",
    "log_reg = sm.Logit(y_train,X_train_stats).fit(maxiter=15)\n",
    "y_train_predicted_probab = log_reg.predict(X_train_stats)\n",
    "print(y_train_predicted_probab)"
   ]
  },
  {
   "cell_type": "code",
   "execution_count": 36,
   "metadata": {},
   "outputs": [
    {
     "name": "stdout",
     "output_type": "stream",
     "text": [
      "b1_3     1\n",
      "b1_4     1\n",
      "b1_5     1\n",
      "b1_6     1\n",
      "b1_7     1\n",
      "        ..\n",
      "wa_11    0\n",
      "wa_12    0\n",
      "wa_13    0\n",
      "wa_14    0\n",
      "wa_15    0\n",
      "Length: 69, dtype: int32\n"
     ]
    }
   ],
   "source": [
    "y_train_predicted = (y_train_predicted_probab >= 0.5).astype(int)\n",
    "print(y_train_predicted)"
   ]
  },
  {
   "cell_type": "code",
   "execution_count": 16,
   "metadata": {},
   "outputs": [
    {
     "name": "stdout",
     "output_type": "stream",
     "text": [
      "The training error is : \n",
      " 0.0 %\n"
     ]
    }
   ],
   "source": [
    "i=0\n",
    "error = 0\n",
    "for i in np.arange(0,y_train.shape[0]):\n",
    "    if y_train_predicted.iloc[i] != y_train.iloc[i]:\n",
    "        error = error + 1\n",
    "\n",
    "error_train = (error/(y_train.shape[0]))*100\n",
    "\n",
    "print('The training error is : \\n',error_train,'%')"
   ]
  },
  {
   "cell_type": "markdown",
   "metadata": {},
   "source": [
    "As can be seen the training error is 0 % or no sample has been misclassified\n",
    "Again, as fit was on train and prediction was on train, this could be an example of possible overfitting"
   ]
  },
  {
   "cell_type": "code",
   "execution_count": 17,
   "metadata": {},
   "outputs": [
    {
     "name": "stdout",
     "output_type": "stream",
     "text": [
      "                           Logit Regression Results                           \n",
      "==============================================================================\n",
      "Dep. Variable:                  Class   No. Observations:                   69\n",
      "Model:                          Logit   Df Residuals:                       50\n",
      "Method:                           MLE   Df Model:                           18\n",
      "Date:                Sun, 25 Oct 2020   Pseudo R-squ.:                   1.000\n",
      "Time:                        18:41:30   Log-Likelihood:            -2.2255e-05\n",
      "converged:                      False   LL-Null:                       -47.827\n",
      "Covariance Type:            nonrobust   LLR p-value:                 1.375e-12\n",
      "==================================================================================\n",
      "                     coef    std err          z      P>|z|      [0.025      0.975]\n",
      "----------------------------------------------------------------------------------\n",
      "const            -47.4306   1.23e+04     -0.004      0.997   -2.42e+04    2.41e+04\n",
      "avg_rss12_mean    -0.4461    305.344     -0.001      0.999    -598.910     598.018\n",
      "avg_rss12_std      4.3790    610.129      0.007      0.994   -1191.452    1200.210\n",
      "avg_rss12_max      0.0037    225.371   1.66e-05      1.000    -441.715     441.723\n",
      "var_rss12_mean    11.9572   2416.869      0.005      0.996   -4725.019    4748.934\n",
      "var_rss12_std    -31.6792   5073.519     -0.006      0.995   -9975.594    9912.235\n",
      "var_rss12_max     -0.2815    439.643     -0.001      0.999    -861.967     861.403\n",
      "avg_rss13_mean    -2.0098    300.669     -0.007      0.995    -591.310     587.291\n",
      "avg_rss13_std    -10.7378    954.939     -0.011      0.991   -1882.384    1860.908\n",
      "avg_rss13_max      1.1984    299.523      0.004      0.997    -585.857     588.253\n",
      "var_rss13_mean   -29.5312   4768.870     -0.006      0.995   -9376.344    9317.282\n",
      "var_rss13_std     52.0697   7140.526      0.007      0.994   -1.39e+04     1.4e+04\n",
      "var_rss13_max      1.1830    500.602      0.002      0.998    -979.979     982.345\n",
      "avg_rss23_mean     1.1318    212.977      0.005      0.996    -416.296     418.560\n",
      "avg_rss23_std     -3.3736    556.025     -0.006      0.995   -1093.162    1086.415\n",
      "avg_rss23_max      2.3567    246.123      0.010      0.992    -480.035     484.748\n",
      "var_rss23_mean     4.2559   3635.245      0.001      0.999   -7120.693    7129.205\n",
      "var_rss23_std      0.4902   8704.066   5.63e-05      1.000   -1.71e+04    1.71e+04\n",
      "var_rss23_max      0.1181    611.359      0.000      1.000   -1198.123    1198.359\n",
      "==================================================================================\n",
      "\n",
      "Complete Separation: The results show that there iscomplete separation.\n",
      "In this case the Maximum Likelihood Estimator does not exist and the parameters\n",
      "are not identified.\n"
     ]
    }
   ],
   "source": [
    "print(log_reg.summary())"
   ]
  },
  {
   "cell_type": "markdown",
   "metadata": {},
   "source": [
    "As can be seen from the summary, the p-values and the beta coefficients,\n",
    "even though train error is 0 %, this model isn't correct and the beta's are in fact wrong as due to complete seperation the model didn't converge, couldn't converge, and we had to stop the model fit after 15 iterations"
   ]
  },
  {
   "cell_type": "markdown",
   "metadata": {},
   "source": [
    "Confusion Matrix for Train"
   ]
  },
  {
   "cell_type": "code",
   "execution_count": 19,
   "metadata": {},
   "outputs": [
    {
     "name": "stdout",
     "output_type": "stream",
     "text": [
      "[[60  0]\n",
      " [ 0  9]]\n"
     ]
    }
   ],
   "source": [
    "from sklearn.metrics import confusion_matrix\n",
    "\n",
    "train_confusion = confusion_matrix(y_train,y_train_predicted)\n",
    "\n",
    "print(train_confusion)"
   ]
  },
  {
   "cell_type": "markdown",
   "metadata": {},
   "source": [
    "As can be seen from the confusion matrix there weren't any misclassifications"
   ]
  },
  {
   "cell_type": "code",
   "execution_count": 20,
   "metadata": {},
   "outputs": [
    {
     "name": "stdout",
     "output_type": "stream",
     "text": [
      "            Predicted 0  Predicted 1\n",
      "Actually 0           60            0\n",
      "Actually 1            0            9\n"
     ]
    }
   ],
   "source": [
    "confusion_train = pd.DataFrame(train_confusion, index = ['Actually 0','Actually 1'],columns=['Predicted 0','Predicted 1'])\n",
    "print(confusion_train)"
   ]
  },
  {
   "cell_type": "markdown",
   "metadata": {},
   "source": [
    "ROC, AUC for Train"
   ]
  },
  {
   "cell_type": "code",
   "execution_count": 21,
   "metadata": {},
   "outputs": [
    {
     "name": "stdout",
     "output_type": "stream",
     "text": [
      "[0.   0.01 0.02 0.03 0.04 0.05 0.06 0.07 0.08 0.09 0.1  0.11 0.12 0.13\n",
      " 0.14 0.15 0.16 0.17 0.18 0.19 0.2  0.21 0.22 0.23 0.24 0.25 0.26 0.27\n",
      " 0.28 0.29 0.3  0.31 0.32 0.33 0.34 0.35 0.36 0.37 0.38 0.39 0.4  0.41\n",
      " 0.42 0.43 0.44 0.45 0.46 0.47 0.48 0.49 0.5  0.51 0.52 0.53 0.54 0.55\n",
      " 0.56 0.57 0.58 0.59 0.6  0.61 0.62 0.63 0.64 0.65 0.66 0.67 0.68 0.69\n",
      " 0.7  0.71 0.72 0.73 0.74 0.75 0.76 0.77 0.78 0.79 0.8  0.81 0.82 0.83\n",
      " 0.84 0.85 0.86 0.87 0.88 0.89 0.9  0.91 0.92 0.93 0.94 0.95 0.96 0.97\n",
      " 0.98 0.99 1.  ]\n"
     ]
    }
   ],
   "source": [
    "threshold = np.arange(0,1.01,0.01)\n",
    "print(threshold)"
   ]
  },
  {
   "cell_type": "code",
   "execution_count": 31,
   "metadata": {},
   "outputs": [
    {
     "name": "stdout",
     "output_type": "stream",
     "text": [
      "    TPR FPR\n",
      "0     1   1\n",
      "1     1   0\n",
      "2     1   0\n",
      "3     1   0\n",
      "4     1   0\n",
      "..   ..  ..\n",
      "96    1   0\n",
      "97    1   0\n",
      "98    1   0\n",
      "99    1   0\n",
      "100   0   0\n",
      "\n",
      "[101 rows x 2 columns]\n"
     ]
    }
   ],
   "source": [
    "ROC_df = pd.DataFrame(index = np.arange(0,np.size(threshold)),columns=['TPR','FPR'])\n",
    "i = 0\n",
    "for i in np.arange(0,np.size(threshold)):\n",
    "    y_train_predicted_new = (y_train_predicted_probab > threshold[i]).astype(int)\n",
    "    confusion_new = confusion_matrix(y_train,y_train_predicted_new)\n",
    "    TPR = confusion_new[1][1]/(confusion_new[1][1]+confusion_new[1][0])\n",
    "    FPR = confusion_new[0][1]/(confusion_new[0][1]+confusion_new[0][0])\n",
    "    ROC_df.iloc[i,0] = TPR\n",
    "    ROC_df.iloc[i,1] = FPR\n",
    "    \n",
    "print(ROC_df)"
   ]
  },
  {
   "cell_type": "code",
   "execution_count": 32,
   "metadata": {
    "scrolled": true
   },
   "outputs": [
    {
     "data": {
      "text/plain": [
       "<seaborn.axisgrid.FacetGrid at 0x1894d48a888>"
      ]
     },
     "execution_count": 32,
     "metadata": {},
     "output_type": "execute_result"
    },
    {
     "data": {
      "image/png": "[encoded data removed]",
      "text/plain": [
       "<Figure size 360x360 with 1 Axes>"
      ]
     },
     "metadata": {
      "needs_background": "light"
     },
     "output_type": "display_data"
    }
   ],
   "source": [
    "import seaborn as sns\n",
    "sns.relplot(data = ROC_df,x='FPR',y='TPR')"
   ]
  },
  {
   "cell_type": "code",
   "execution_count": 33,
   "metadata": {},
   "outputs": [
    {
     "name": "stdout",
     "output_type": "stream",
     "text": [
      "1.0\n"
     ]
    }
   ],
   "source": [
    "from sklearn import metrics\n",
    "auc_train = metrics.auc(ROC_df['FPR'],ROC_df['TPR'])\n",
    "print(auc_train)"
   ]
  },
  {
   "cell_type": "markdown",
   "metadata": {},
   "source": [
    "As can be seen, this corresponds to a perfect 'classifier'\n",
    "Again this ROC and AUC has been done on train\n",
    "There is a good possibility of these results being heavily skewed for test due to the 'incorrect' beta's obtained via\n",
    "complete linear seperation"
   ]
  },
  {
   "cell_type": "markdown",
   "metadata": {},
   "source": [
    "We'll estimate the test error via 5-fold CV on this training set"
   ]
  },
  {
   "cell_type": "code",
   "execution_count": 41,
   "metadata": {},
   "outputs": [
    {
     "name": "stdout",
     "output_type": "stream",
     "text": [
      "Warning: Maximum number of iterations has been exceeded.\n",
      "         Current function value: 0.000000\n",
      "         Iterations: 15\n",
      "Warning: Maximum number of iterations has been exceeded.\n",
      "         Current function value: 0.000000\n",
      "         Iterations: 15\n",
      "Warning: Maximum number of iterations has been exceeded.\n",
      "         Current function value: 0.000000\n",
      "         Iterations: 15\n",
      "Warning: Maximum number of iterations has been exceeded.\n",
      "         Current function value: 0.000000\n",
      "         Iterations: 15\n",
      "Warning: Maximum number of iterations has been exceeded.\n",
      "         Current function value: 0.000000\n",
      "         Iterations: 15\n",
      "[ 7.14285714  0.          0.         14.28571429  0.        ]\n"
     ]
    },
    {
     "name": "stderr",
     "output_type": "stream",
     "text": [
      "C:\\Users\\DHRUV\\anaconda3\\lib\\site-packages\\statsmodels\\base\\model.py:568: ConvergenceWarning: Maximum Likelihood optimization failed to converge. Check mle_retvals\n",
      "  \"Check mle_retvals\", ConvergenceWarning)\n",
      "C:\\Users\\DHRUV\\anaconda3\\lib\\site-packages\\statsmodels\\base\\model.py:568: ConvergenceWarning: Maximum Likelihood optimization failed to converge. Check mle_retvals\n",
      "  \"Check mle_retvals\", ConvergenceWarning)\n",
      "C:\\Users\\DHRUV\\anaconda3\\lib\\site-packages\\statsmodels\\base\\model.py:568: ConvergenceWarning: Maximum Likelihood optimization failed to converge. Check mle_retvals\n",
      "  \"Check mle_retvals\", ConvergenceWarning)\n",
      "C:\\Users\\DHRUV\\anaconda3\\lib\\site-packages\\statsmodels\\base\\model.py:568: ConvergenceWarning: Maximum Likelihood optimization failed to converge. Check mle_retvals\n",
      "  \"Check mle_retvals\", ConvergenceWarning)\n",
      "C:\\Users\\DHRUV\\anaconda3\\lib\\site-packages\\statsmodels\\base\\model.py:568: ConvergenceWarning: Maximum Likelihood optimization failed to converge. Check mle_retvals\n",
      "  \"Check mle_retvals\", ConvergenceWarning)\n"
     ]
    }
   ],
   "source": [
    "from sklearn.model_selection import StratifiedKFold\n",
    "kf = StratifiedKFold(n_splits=5,shuffle=True)\n",
    "fold_error = np.zeros(5)\n",
    "count = 0\n",
    "for train_index, test_index in kf.split(X_train,y_train):\n",
    "    count = count + 1\n",
    "    X_train_cv, X_test_cv = X_train.iloc[train_index,:], X_train.iloc[test_index,:]\n",
    "    y_train_cv, y_test_cv = y_train.iloc[train_index], y_train.iloc[test_index]\n",
    "    \n",
    "    X_train_cv_stats = sm.add_constant(X_train_cv)\n",
    "    log_reg_cv = sm.Logit(y_train_cv,X_train_cv_stats).fit(maxiter=15)\n",
    "    \n",
    "    X_test_cv_stats = sm.add_constant(X_test_cv)\n",
    "    \n",
    "    y_test_cv_predicted_probab = log_reg_cv.predict(X_test_cv_stats) \n",
    "    \n",
    "    y_test_cv_predicted = (y_test_cv_predicted_probab >= 0.5).astype(int)\n",
    "    \n",
    "    mis = 0\n",
    "    for i in np.arange(0,y_test_cv.shape[0]):\n",
    "        if y_test_cv_predicted[i] != y_test_cv.iloc[i]:\n",
    "            mis = mis + 1\n",
    "        \n",
    "    error_estimate = (mis/(y_test_cv.shape[0]))*100\n",
    "    fold_error[count-1] = error_estimate\n",
    "\n",
    "print(fold_error)"
   ]
  },
  {
   "cell_type": "markdown",
   "metadata": {},
   "source": [
    "A few Comments :\n",
    "Here I found that unlike the other parts of this HW, for the current part, the estimated errors were pretty large unless StratifiedKfold was used, and thus here CV was done via Stratified K fold, again applying stratified K fold is rather easy and doesn't need a lot of changes\n",
    "\n",
    "Additionally in previous part Kfold was done manually by me, after shuffling the data set. The shuffle and the manual implementation as opposed to implementation via scikit may have been responsible for reducing the impact of class imbalance\n",
    "\n",
    "Shuffling in itself helps to a large extent.\n",
    "\n",
    "Kfold without shuffling < Kfold with shuffling < Stratified (with/without shuffling)\n",
    "Is the order with which test errors can be better estimated, especially when the data has minor to major class imbalance"
   ]
  },
  {
   "cell_type": "code",
   "execution_count": 43,
   "metadata": {},
   "outputs": [
    {
     "name": "stdout",
     "output_type": "stream",
     "text": [
      "The test error estimated here via 5-fold CV is : \n",
      " 4.285714285714286 %\n"
     ]
    }
   ],
   "source": [
    "test_error_estimate = np.mean(fold_error)\n",
    "print('The test error estimated here via 5-fold CV is : \\n',test_error_estimate,'%')"
   ]
  }
 ],
 "metadata": {
  "kernelspec": {
   "display_name": "Python 3",
   "language": "python",
   "name": "python3"
  },
  "language_info": {
   "codemirror_mode": {
    "name": "ipython",
    "version": 3
   },
   "file_extension": ".py",
   "mimetype": "text/x-python",
   "name": "python",
   "nbconvert_exporter": "python",
   "pygments_lexer": "ipython3",
   "version": "3.7.6"
  }
 },
 "nbformat": 4,
 "nbformat_minor": 4
}
