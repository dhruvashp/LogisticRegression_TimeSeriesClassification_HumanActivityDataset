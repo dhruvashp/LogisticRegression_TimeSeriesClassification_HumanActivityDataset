{
 "cells": [
  {
   "cell_type": "markdown",
   "metadata": {},
   "source": [
    "LR VS GaussianNB vs MultinomialNB\n",
    "\n",
    "No. of splits : Obtained around l=1,2,3,4 for GaussianNB and LR. Around 10-20 for MultinomialNB\n",
    "\n",
    "Test Error (Estimates and Actual) : Error obtained highest for LR. Generally speaking, errors for GaussianNB and MultinomialNB are more or less same, around the same region, however the test error actually obtained for MultinomialNB was 5 %, lowest, corresponding to splits = 19\n",
    "\n",
    "As splits are more for Multinomial NB, features are also higher, and thus, there is a much more 'distinct class seperation' in higher dimensions. Also since NB doesn't have the convergence issues as LR, this, for MNB means that it can classify with a pretty high accuracy. \n",
    "\n",
    "Thus, if l for GNB was chosen equally large, a similar test error result may have been obtained, however via CV, for GNB, its minimal error was obtained around l=4 (estimated test error)\n",
    "\n",
    "Thus, I would prefer GNB or MNB surely over LR, and within GNB and MNB I would prefer GNB as it reduces test errors, with smaller feature set as opposed to MNB for which feature set was much larger which helped in reducing the test error obtained for it"
   ]
  },
  {
   "cell_type": "code",
   "execution_count": null,
   "metadata": {},
   "outputs": [],
   "source": []
  }
 ],
 "metadata": {
  "kernelspec": {
   "display_name": "Python 3",
   "language": "python",
   "name": "python3"
  },
  "language_info": {
   "codemirror_mode": {
    "name": "ipython",
    "version": 3
   },
   "file_extension": ".py",
   "mimetype": "text/x-python",
   "name": "python",
   "nbconvert_exporter": "python",
   "pygments_lexer": "ipython3",
   "version": "3.7.6"
  }
 },
 "nbformat": 4,
 "nbformat_minor": 4
}
