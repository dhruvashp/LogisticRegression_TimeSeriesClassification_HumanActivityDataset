{
 "cells": [
  {
   "cell_type": "markdown",
   "metadata": {},
   "source": [
    "HW3\n",
    "d\n",
    "vi\n",
    "\n",
    "Yes. Clearly the classes are extremely well seperated. Total features we used were 18, total classes are only 2. Problem in such high dimensions is clearly going to be extra-ordinarily well seperated.\n",
    "\n",
    "Note : If we use the best 2 selected features that were obtained for l=1 (as seen in the excel sheet), this issue of high dimensionality will surely reduce and the model won't be as well seperated.\\\n",
    "\n",
    "As such, since we assumed we could work with the entire set of features the problems of clear class seperations definitely increased.\n",
    "\n",
    "For l=1 the model fit has three parameters :\n",
    "1. constant\n",
    "2. a feature\n",
    "3. a feature\n",
    "\n",
    "The two feature indices can be corresponded with the corresponding time-series characterestics and the problem in d iv and d v can be repeated. As this seems repetitive, we haven't re-done d iv and d v again using those pruned set of features\n",
    "\n",
    "We could also repeat d iv and d v corresponding to l=2 or l=3 splits\n",
    "For l=3 splits the best fit had only two parameters\n",
    "1. a feature\n",
    "2. a feature\n",
    "\n",
    "l=3 didn't contain the constant and thus in the model built in statsmodels, add_constant needn't be performed\n",
    "\n",
    "Similarly for l=2, corresponding best features from the l,p,CV matrix can be selected, the model refit and portions d iv and d v repeated.\n",
    "\n",
    "Again all these portions are just repetitions of what we did, with pruned features we already obtained in d iii and thus we'll avoid performing this task again.\n",
    "\n",
    "As such, for p=18 case, taking all features, for l=1, high dimensionality is quite large\n",
    "This can be solved to a certain degree (if not fully) by using the pruned set of features obtained via RFE\n",
    "\n",
    "Again, since the number of training data points are small (only 69) this problem might still persists even in smaller dimensions as since data that is fit is small, them lying distinctly from one another is a possibility whose probability considerably increases"
   ]
  },
  {
   "cell_type": "code",
   "execution_count": null,
   "metadata": {},
   "outputs": [],
   "source": []
  }
 ],
 "metadata": {
  "kernelspec": {
   "display_name": "Python 3",
   "language": "python",
   "name": "python3"
  },
  "language_info": {
   "codemirror_mode": {
    "name": "ipython",
    "version": 3
   },
   "file_extension": ".py",
   "mimetype": "text/x-python",
   "name": "python",
   "nbconvert_exporter": "python",
   "pygments_lexer": "ipython3",
   "version": "3.7.6"
  }
 },
 "nbformat": 4,
 "nbformat_minor": 4
}
